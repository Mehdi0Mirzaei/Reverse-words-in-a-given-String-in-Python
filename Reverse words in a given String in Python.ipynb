{
 "cells": [
  {
   "cell_type": "code",
   "execution_count": 32,
   "id": "73ac1293",
   "metadata": {},
   "outputs": [],
   "source": [
    "def reverse_words(string):\n",
    "    s=string.split(\" \")\n",
    "    s1=s[::-1]\n",
    "    return s1"
   ]
  },
  {
   "cell_type": "code",
   "execution_count": 33,
   "id": "147fdef0",
   "metadata": {},
   "outputs": [],
   "source": [
    "string1='some random text'"
   ]
  },
  {
   "cell_type": "code",
   "execution_count": 34,
   "id": "b4551bb9",
   "metadata": {},
   "outputs": [
    {
     "data": {
      "text/plain": [
       "['text', 'random', 'some']"
      ]
     },
     "execution_count": 34,
     "metadata": {},
     "output_type": "execute_result"
    }
   ],
   "source": [
    "reverse_words(string)"
   ]
  },
  {
   "cell_type": "code",
   "execution_count": 35,
   "id": "47d3aa87",
   "metadata": {},
   "outputs": [
    {
     "name": "stdout",
     "output_type": "stream",
     "text": [
      "text random some\n"
     ]
    }
   ],
   "source": [
    "s=string.split(\" \")[::-1]\n",
    "l=[]\n",
    "for item in s:\n",
    "    l.append(item)\n",
    "print(' '.join(l))"
   ]
  },
  {
   "cell_type": "code",
   "execution_count": 38,
   "id": "22ed8d4e",
   "metadata": {},
   "outputs": [
    {
     "name": "stdout",
     "output_type": "stream",
     "text": [
      "text rando some\n"
     ]
    }
   ],
   "source": [
    "def rev_phras(sentence):\n",
    "    words=sentence.split(' ')\n",
    "    rev_phras=' '.join(reversed(words))\n",
    "    return rev_phras\n",
    "if __name__ == \"__main__\":\n",
    "    string='some rando text'\n",
    "    print(rev_phras(string))"
   ]
  },
  {
   "cell_type": "code",
   "execution_count": 39,
   "id": "6f470bfa",
   "metadata": {},
   "outputs": [
    {
     "name": "stdout",
     "output_type": "stream",
     "text": [
      "text random some\n"
     ]
    }
   ],
   "source": [
    "string = \"some random text\"\n",
    " \n",
    "# creating an empty stack\n",
    "stack = []\n",
    " \n",
    "# pushing words onto the stack\n",
    "for word in string.split():\n",
    "    stack.append(word)\n",
    " # creating an empty list to store the reversed words\n",
    "reversed_words = []\n",
    " \n",
    "# popping words off the stack and appending them to the list\n",
    "while stack:\n",
    "    reversed_words.append(stack.pop())\n",
    " # joining the reversed words with a space\n",
    "reversed_string = \" \".join(reversed_words)\n",
    " \n",
    "# printing the reversed string\n",
    "print(reversed_string)"
   ]
  },
  {
   "cell_type": "code",
   "execution_count": 40,
   "id": "b9f2680f",
   "metadata": {},
   "outputs": [],
   "source": [
    "def reverse_words(string):\n",
    "    # split the string into a list of words\n",
    "    words = string.split()\n",
    " # initialize an empty string to store the reversed words\n",
    "    reversed_string = ''\n",
    " # loop through the words in reverse order and append them to the reversed string\n",
    "    for i in range(len(words)-1, -1, -1):\n",
    "        reversed_string += words[i] + ' '\n",
    " # remove the extra space at the end of the reversed string and return it\n",
    "    return reversed_string.strip()"
   ]
  },
  {
   "cell_type": "code",
   "execution_count": 41,
   "id": "2d374022",
   "metadata": {},
   "outputs": [
    {
     "data": {
      "text/plain": [
       "'text random some'"
      ]
     },
     "execution_count": 41,
     "metadata": {},
     "output_type": "execute_result"
    }
   ],
   "source": [
    "reverse_words('some random text')"
   ]
  },
  {
   "cell_type": "code",
   "execution_count": 42,
   "id": "7471ee76",
   "metadata": {},
   "outputs": [],
   "source": [
    "def reverse_word(s, start, end):\n",
    "    while start < end:\n",
    "        s[start], s[end] = s[end], s[start]\n",
    "        start += 1\n",
    "        end -= 1\n",
    " # Function to reverse the string\n",
    "def reverse_string(s):\n",
    "    s = list(s)\n",
    "    start, end = 0, len(s) - 1\n",
    "    reverse_word(s, start, end)\n",
    "    start = end = 0\n",
    " # Iterate over the string S\n",
    "    while end < len(s):\n",
    "        if s[end] == ' ':\n",
    "            reverse_word(s, start, end - 1)\n",
    "            start = end + 1\n",
    "        end += 1\n",
    " # Reverse the words\n",
    "    reverse_word(s, start, end - 1)\n",
    "    return ''.join(s)"
   ]
  },
  {
   "cell_type": "code",
   "execution_count": 43,
   "id": "6a0669ae",
   "metadata": {},
   "outputs": [],
   "source": [
    "S='some random text'"
   ]
  },
  {
   "cell_type": "code",
   "execution_count": 44,
   "id": "7c83b0ed",
   "metadata": {},
   "outputs": [
    {
     "name": "stdout",
     "output_type": "stream",
     "text": [
      "text random some\n"
     ]
    }
   ],
   "source": [
    "print(reverse_string(S))"
   ]
  },
  {
   "cell_type": "code",
   "execution_count": null,
   "id": "a8e9703a",
   "metadata": {},
   "outputs": [],
   "source": []
  }
 ],
 "metadata": {
  "kernelspec": {
   "display_name": "Python 3 (ipykernel)",
   "language": "python",
   "name": "python3"
  },
  "language_info": {
   "codemirror_mode": {
    "name": "ipython",
    "version": 3
   },
   "file_extension": ".py",
   "mimetype": "text/x-python",
   "name": "python",
   "nbconvert_exporter": "python",
   "pygments_lexer": "ipython3",
   "version": "3.9.13"
  }
 },
 "nbformat": 4,
 "nbformat_minor": 5
}
